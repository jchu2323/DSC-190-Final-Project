{
 "cells": [
  {
   "cell_type": "markdown",
   "id": "21fd8128",
   "metadata": {},
   "source": [
    "# Final Project\n",
    "\n",
    "### Introduction\n",
    "I was looking at datasets that had implications that I could relate to and I came upon this dataset on kaggle. It immediately intrigued me because I have seen housing prices increase by a lot since I was born, with prices of houses doubling or tripling in the area that I lived in Los Angeles County. The question then dawned upon me. Can I use a model to predict the prices of houses in California based on some features that were given in this dataset?\n",
    "\n",
    "### Dataset\n",
    "I found a dataset on real estate prices in California for the first 6 months of 2021 on kaggle with 31238 unique values. There are 39 columns which gives varying information from location of the property to type of property.\n",
    "\n",
    "Link: https://www.kaggle.com/yellowj4acket/real-estate-california\n",
    "\n",
    "### Exploratory Data Analysis (EDA)"
   ]
  },
  {
   "cell_type": "code",
   "execution_count": 1,
   "id": "f1a5ca9a",
   "metadata": {},
   "outputs": [],
   "source": [
    "import pandas as pd\n",
    "import numpy as np\n",
    "import seaborn as sns"
   ]
  },
  {
   "cell_type": "code",
   "execution_count": 2,
   "id": "1459ae6e",
   "metadata": {},
   "outputs": [
    {
     "data": {
      "text/html": [
       "<div>\n",
       "<style scoped>\n",
       "    .dataframe tbody tr th:only-of-type {\n",
       "        vertical-align: middle;\n",
       "    }\n",
       "\n",
       "    .dataframe tbody tr th {\n",
       "        vertical-align: top;\n",
       "    }\n",
       "\n",
       "    .dataframe thead th {\n",
       "        text-align: right;\n",
       "    }\n",
       "</style>\n",
       "<table border=\"1\" class=\"dataframe\">\n",
       "  <thead>\n",
       "    <tr style=\"text-align: right;\">\n",
       "      <th></th>\n",
       "      <th>Unnamed: 0</th>\n",
       "      <th>id</th>\n",
       "      <th>stateId</th>\n",
       "      <th>countyId</th>\n",
       "      <th>cityId</th>\n",
       "      <th>country</th>\n",
       "      <th>datePostedString</th>\n",
       "      <th>is_bankOwned</th>\n",
       "      <th>is_forAuction</th>\n",
       "      <th>event</th>\n",
       "      <th>...</th>\n",
       "      <th>parking</th>\n",
       "      <th>garageSpaces</th>\n",
       "      <th>hasGarage</th>\n",
       "      <th>levels</th>\n",
       "      <th>pool</th>\n",
       "      <th>spa</th>\n",
       "      <th>isNewConstruction</th>\n",
       "      <th>hasPetsAllowed</th>\n",
       "      <th>homeType</th>\n",
       "      <th>county</th>\n",
       "    </tr>\n",
       "  </thead>\n",
       "  <tbody>\n",
       "    <tr>\n",
       "      <th>0</th>\n",
       "      <td>0</td>\n",
       "      <td>95717-2087851113</td>\n",
       "      <td>9</td>\n",
       "      <td>77</td>\n",
       "      <td>24895</td>\n",
       "      <td>USA</td>\n",
       "      <td>2021-01-13</td>\n",
       "      <td>0</td>\n",
       "      <td>0</td>\n",
       "      <td>Listed for sale</td>\n",
       "      <td>...</td>\n",
       "      <td>0</td>\n",
       "      <td>0.0</td>\n",
       "      <td>0</td>\n",
       "      <td>0</td>\n",
       "      <td>0</td>\n",
       "      <td>0</td>\n",
       "      <td>0</td>\n",
       "      <td>0</td>\n",
       "      <td>LOT</td>\n",
       "      <td>Placer County</td>\n",
       "    </tr>\n",
       "    <tr>\n",
       "      <th>1</th>\n",
       "      <td>1</td>\n",
       "      <td>94564-18496265</td>\n",
       "      <td>9</td>\n",
       "      <td>189</td>\n",
       "      <td>36958</td>\n",
       "      <td>USA</td>\n",
       "      <td>2021-07-12</td>\n",
       "      <td>0</td>\n",
       "      <td>0</td>\n",
       "      <td>Listed for sale</td>\n",
       "      <td>...</td>\n",
       "      <td>1</td>\n",
       "      <td>2.0</td>\n",
       "      <td>1</td>\n",
       "      <td>One Story</td>\n",
       "      <td>0</td>\n",
       "      <td>0</td>\n",
       "      <td>0</td>\n",
       "      <td>0</td>\n",
       "      <td>SINGLE_FAMILY</td>\n",
       "      <td>Contra Costa County</td>\n",
       "    </tr>\n",
       "    <tr>\n",
       "      <th>2</th>\n",
       "      <td>2</td>\n",
       "      <td>94564-18484475</td>\n",
       "      <td>9</td>\n",
       "      <td>190</td>\n",
       "      <td>36958</td>\n",
       "      <td>USA</td>\n",
       "      <td>2021-07-08</td>\n",
       "      <td>0</td>\n",
       "      <td>0</td>\n",
       "      <td>Listed for sale</td>\n",
       "      <td>...</td>\n",
       "      <td>1</td>\n",
       "      <td>2.0</td>\n",
       "      <td>1</td>\n",
       "      <td>One Story</td>\n",
       "      <td>0</td>\n",
       "      <td>0</td>\n",
       "      <td>0</td>\n",
       "      <td>0</td>\n",
       "      <td>SINGLE_FAMILY</td>\n",
       "      <td>Contra Costa County</td>\n",
       "    </tr>\n",
       "    <tr>\n",
       "      <th>3</th>\n",
       "      <td>3</td>\n",
       "      <td>94564-18494835</td>\n",
       "      <td>9</td>\n",
       "      <td>191</td>\n",
       "      <td>36958</td>\n",
       "      <td>USA</td>\n",
       "      <td>2021-07-07</td>\n",
       "      <td>0</td>\n",
       "      <td>0</td>\n",
       "      <td>Listed for sale</td>\n",
       "      <td>...</td>\n",
       "      <td>1</td>\n",
       "      <td>1.0</td>\n",
       "      <td>1</td>\n",
       "      <td>Two Story</td>\n",
       "      <td>0</td>\n",
       "      <td>1</td>\n",
       "      <td>0</td>\n",
       "      <td>0</td>\n",
       "      <td>SINGLE_FAMILY</td>\n",
       "      <td>Contra Costa County</td>\n",
       "    </tr>\n",
       "    <tr>\n",
       "      <th>4</th>\n",
       "      <td>4</td>\n",
       "      <td>94564-2069722747</td>\n",
       "      <td>9</td>\n",
       "      <td>192</td>\n",
       "      <td>36958</td>\n",
       "      <td>USA</td>\n",
       "      <td>2021-07-07</td>\n",
       "      <td>0</td>\n",
       "      <td>0</td>\n",
       "      <td>Listed for sale</td>\n",
       "      <td>...</td>\n",
       "      <td>0</td>\n",
       "      <td>0.0</td>\n",
       "      <td>0</td>\n",
       "      <td>0</td>\n",
       "      <td>0</td>\n",
       "      <td>0</td>\n",
       "      <td>0</td>\n",
       "      <td>0</td>\n",
       "      <td>LOT</td>\n",
       "      <td>Contra Costa County</td>\n",
       "    </tr>\n",
       "  </tbody>\n",
       "</table>\n",
       "<p>5 rows × 39 columns</p>\n",
       "</div>"
      ],
      "text/plain": [
       "   Unnamed: 0                id  stateId  countyId  cityId country  \\\n",
       "0           0  95717-2087851113        9        77   24895     USA   \n",
       "1           1    94564-18496265        9       189   36958     USA   \n",
       "2           2    94564-18484475        9       190   36958     USA   \n",
       "3           3    94564-18494835        9       191   36958     USA   \n",
       "4           4  94564-2069722747        9       192   36958     USA   \n",
       "\n",
       "  datePostedString  is_bankOwned  is_forAuction            event  ...  \\\n",
       "0       2021-01-13             0              0  Listed for sale  ...   \n",
       "1       2021-07-12             0              0  Listed for sale  ...   \n",
       "2       2021-07-08             0              0  Listed for sale  ...   \n",
       "3       2021-07-07             0              0  Listed for sale  ...   \n",
       "4       2021-07-07             0              0  Listed for sale  ...   \n",
       "\n",
       "   parking  garageSpaces  hasGarage     levels pool  spa isNewConstruction  \\\n",
       "0        0           0.0          0          0    0    0                 0   \n",
       "1        1           2.0          1  One Story    0    0                 0   \n",
       "2        1           2.0          1  One Story    0    0                 0   \n",
       "3        1           1.0          1  Two Story    0    1                 0   \n",
       "4        0           0.0          0          0    0    0                 0   \n",
       "\n",
       "   hasPetsAllowed       homeType               county  \n",
       "0               0            LOT        Placer County  \n",
       "1               0  SINGLE_FAMILY  Contra Costa County  \n",
       "2               0  SINGLE_FAMILY  Contra Costa County  \n",
       "3               0  SINGLE_FAMILY  Contra Costa County  \n",
       "4               0            LOT  Contra Costa County  \n",
       "\n",
       "[5 rows x 39 columns]"
      ]
     },
     "execution_count": 2,
     "metadata": {},
     "output_type": "execute_result"
    }
   ],
   "source": [
    "#import dataset\n",
    "csv = 'Real_Estate_California.csv'\n",
    "real_est = pd.read_csv(csv)\n",
    "real_est.head()"
   ]
  },
  {
   "cell_type": "code",
   "execution_count": 3,
   "id": "98221ac4",
   "metadata": {},
   "outputs": [
    {
     "data": {
      "text/plain": [
       "Index(['Unnamed: 0', 'id', 'stateId', 'countyId', 'cityId', 'country',\n",
       "       'datePostedString', 'is_bankOwned', 'is_forAuction', 'event', 'time',\n",
       "       'price', 'pricePerSquareFoot', 'city', 'state', 'yearBuilt',\n",
       "       'streetAddress', 'zipcode', 'longitude', 'latitude', 'hasBadGeocode',\n",
       "       'description', 'currency', 'livingArea', 'livingAreaValue',\n",
       "       'lotAreaUnits', 'bathrooms', 'bedrooms', 'buildingArea', 'parking',\n",
       "       'garageSpaces', 'hasGarage', 'levels', 'pool', 'spa',\n",
       "       'isNewConstruction', 'hasPetsAllowed', 'homeType', 'county'],\n",
       "      dtype='object')"
      ]
     },
     "execution_count": 3,
     "metadata": {},
     "output_type": "execute_result"
    }
   ],
   "source": [
    "real_est.columns"
   ]
  },
  {
   "cell_type": "code",
   "execution_count": 4,
   "id": "2cfc0b00",
   "metadata": {},
   "outputs": [
    {
     "data": {
      "text/html": [
       "<div>\n",
       "<style scoped>\n",
       "    .dataframe tbody tr th:only-of-type {\n",
       "        vertical-align: middle;\n",
       "    }\n",
       "\n",
       "    .dataframe tbody tr th {\n",
       "        vertical-align: top;\n",
       "    }\n",
       "\n",
       "    .dataframe thead th {\n",
       "        text-align: right;\n",
       "    }\n",
       "</style>\n",
       "<table border=\"1\" class=\"dataframe\">\n",
       "  <thead>\n",
       "    <tr style=\"text-align: right;\">\n",
       "      <th></th>\n",
       "      <th>datePostedString</th>\n",
       "      <th>is_bankOwned</th>\n",
       "      <th>is_forAuction</th>\n",
       "      <th>event</th>\n",
       "      <th>price</th>\n",
       "      <th>pricePerSquareFoot</th>\n",
       "      <th>city</th>\n",
       "      <th>state</th>\n",
       "      <th>yearBuilt</th>\n",
       "      <th>streetAddress</th>\n",
       "      <th>...</th>\n",
       "      <th>parking</th>\n",
       "      <th>garageSpaces</th>\n",
       "      <th>hasGarage</th>\n",
       "      <th>levels</th>\n",
       "      <th>pool</th>\n",
       "      <th>spa</th>\n",
       "      <th>isNewConstruction</th>\n",
       "      <th>hasPetsAllowed</th>\n",
       "      <th>homeType</th>\n",
       "      <th>county</th>\n",
       "    </tr>\n",
       "  </thead>\n",
       "  <tbody>\n",
       "    <tr>\n",
       "      <th>0</th>\n",
       "      <td>2021-01-13</td>\n",
       "      <td>0</td>\n",
       "      <td>0</td>\n",
       "      <td>Listed for sale</td>\n",
       "      <td>145000.0</td>\n",
       "      <td>0.0</td>\n",
       "      <td>Gold Run</td>\n",
       "      <td>CA</td>\n",
       "      <td>0</td>\n",
       "      <td>0 Moody Ridge Rd</td>\n",
       "      <td>...</td>\n",
       "      <td>0</td>\n",
       "      <td>0.0</td>\n",
       "      <td>0</td>\n",
       "      <td>0</td>\n",
       "      <td>0</td>\n",
       "      <td>0</td>\n",
       "      <td>0</td>\n",
       "      <td>0</td>\n",
       "      <td>LOT</td>\n",
       "      <td>Placer County</td>\n",
       "    </tr>\n",
       "    <tr>\n",
       "      <th>1</th>\n",
       "      <td>2021-07-12</td>\n",
       "      <td>0</td>\n",
       "      <td>0</td>\n",
       "      <td>Listed for sale</td>\n",
       "      <td>675000.0</td>\n",
       "      <td>404.0</td>\n",
       "      <td>Pinole</td>\n",
       "      <td>CA</td>\n",
       "      <td>1958</td>\n",
       "      <td>1476 Belden Ct</td>\n",
       "      <td>...</td>\n",
       "      <td>1</td>\n",
       "      <td>2.0</td>\n",
       "      <td>1</td>\n",
       "      <td>One Story</td>\n",
       "      <td>0</td>\n",
       "      <td>0</td>\n",
       "      <td>0</td>\n",
       "      <td>0</td>\n",
       "      <td>SINGLE_FAMILY</td>\n",
       "      <td>Contra Costa County</td>\n",
       "    </tr>\n",
       "    <tr>\n",
       "      <th>2</th>\n",
       "      <td>2021-07-08</td>\n",
       "      <td>0</td>\n",
       "      <td>0</td>\n",
       "      <td>Listed for sale</td>\n",
       "      <td>649000.0</td>\n",
       "      <td>459.0</td>\n",
       "      <td>Pinole</td>\n",
       "      <td>CA</td>\n",
       "      <td>1959</td>\n",
       "      <td>3540 Savage Ave</td>\n",
       "      <td>...</td>\n",
       "      <td>1</td>\n",
       "      <td>2.0</td>\n",
       "      <td>1</td>\n",
       "      <td>One Story</td>\n",
       "      <td>0</td>\n",
       "      <td>0</td>\n",
       "      <td>0</td>\n",
       "      <td>0</td>\n",
       "      <td>SINGLE_FAMILY</td>\n",
       "      <td>Contra Costa County</td>\n",
       "    </tr>\n",
       "    <tr>\n",
       "      <th>3</th>\n",
       "      <td>2021-07-07</td>\n",
       "      <td>0</td>\n",
       "      <td>0</td>\n",
       "      <td>Listed for sale</td>\n",
       "      <td>599000.0</td>\n",
       "      <td>448.0</td>\n",
       "      <td>Pinole</td>\n",
       "      <td>CA</td>\n",
       "      <td>1908</td>\n",
       "      <td>2391 Plum St</td>\n",
       "      <td>...</td>\n",
       "      <td>1</td>\n",
       "      <td>1.0</td>\n",
       "      <td>1</td>\n",
       "      <td>Two Story</td>\n",
       "      <td>0</td>\n",
       "      <td>1</td>\n",
       "      <td>0</td>\n",
       "      <td>0</td>\n",
       "      <td>SINGLE_FAMILY</td>\n",
       "      <td>Contra Costa County</td>\n",
       "    </tr>\n",
       "    <tr>\n",
       "      <th>4</th>\n",
       "      <td>2021-07-07</td>\n",
       "      <td>0</td>\n",
       "      <td>0</td>\n",
       "      <td>Listed for sale</td>\n",
       "      <td>299000.0</td>\n",
       "      <td>0.0</td>\n",
       "      <td>Pinole</td>\n",
       "      <td>CA</td>\n",
       "      <td>0</td>\n",
       "      <td>2693 Appian Way</td>\n",
       "      <td>...</td>\n",
       "      <td>0</td>\n",
       "      <td>0.0</td>\n",
       "      <td>0</td>\n",
       "      <td>0</td>\n",
       "      <td>0</td>\n",
       "      <td>0</td>\n",
       "      <td>0</td>\n",
       "      <td>0</td>\n",
       "      <td>LOT</td>\n",
       "      <td>Contra Costa County</td>\n",
       "    </tr>\n",
       "  </tbody>\n",
       "</table>\n",
       "<p>5 rows × 29 columns</p>\n",
       "</div>"
      ],
      "text/plain": [
       "  datePostedString  is_bankOwned  is_forAuction            event     price  \\\n",
       "0       2021-01-13             0              0  Listed for sale  145000.0   \n",
       "1       2021-07-12             0              0  Listed for sale  675000.0   \n",
       "2       2021-07-08             0              0  Listed for sale  649000.0   \n",
       "3       2021-07-07             0              0  Listed for sale  599000.0   \n",
       "4       2021-07-07             0              0  Listed for sale  299000.0   \n",
       "\n",
       "   pricePerSquareFoot      city state  yearBuilt     streetAddress  ...  \\\n",
       "0                 0.0  Gold Run    CA          0  0 Moody Ridge Rd  ...   \n",
       "1               404.0    Pinole    CA       1958    1476 Belden Ct  ...   \n",
       "2               459.0    Pinole    CA       1959   3540 Savage Ave  ...   \n",
       "3               448.0    Pinole    CA       1908      2391 Plum St  ...   \n",
       "4                 0.0    Pinole    CA          0   2693 Appian Way  ...   \n",
       "\n",
       "   parking  garageSpaces hasGarage     levels  pool spa  isNewConstruction  \\\n",
       "0        0           0.0         0          0     0   0                  0   \n",
       "1        1           2.0         1  One Story     0   0                  0   \n",
       "2        1           2.0         1  One Story     0   0                  0   \n",
       "3        1           1.0         1  Two Story     0   1                  0   \n",
       "4        0           0.0         0          0     0   0                  0   \n",
       "\n",
       "   hasPetsAllowed       homeType               county  \n",
       "0               0            LOT        Placer County  \n",
       "1               0  SINGLE_FAMILY  Contra Costa County  \n",
       "2               0  SINGLE_FAMILY  Contra Costa County  \n",
       "3               0  SINGLE_FAMILY  Contra Costa County  \n",
       "4               0            LOT  Contra Costa County  \n",
       "\n",
       "[5 rows x 29 columns]"
      ]
     },
     "execution_count": 4,
     "metadata": {},
     "output_type": "execute_result"
    }
   ],
   "source": [
    "#removing unnecessary columns\n",
    "real_est.drop(columns = ['Unnamed: 0', 'id', 'stateId', 'countyId', 'cityId', 'country', 'longitude', 'latitude', 'currency', 'time'],\n",
    "              inplace = True)\n",
    "real_est.head()"
   ]
  },
  {
   "cell_type": "code",
   "execution_count": 5,
   "id": "cbeb2657",
   "metadata": {},
   "outputs": [
    {
     "data": {
      "text/plain": [
       "<AxesSubplot:xlabel='price', ylabel='Count'>"
      ]
     },
     "execution_count": 5,
     "metadata": {},
     "output_type": "execute_result"
    },
    {
     "data": {
      "image/png": "[encoded data removed]",
      "text/plain": [
       "<Figure size 432x288 with 1 Axes>"
      ]
     },
     "metadata": {
      "needs_background": "light"
     },
     "output_type": "display_data"
    }
   ],
   "source": [
    "sns.histplot(data = real_est, x = 'price', bins = 50)"
   ]
  },
  {
   "cell_type": "code",
   "execution_count": 6,
   "id": "4550e147",
   "metadata": {},
   "outputs": [
    {
     "data": {
      "text/plain": [
       "count    3.538900e+04\n",
       "mean     1.187889e+06\n",
       "std      2.564884e+06\n",
       "min      0.000000e+00\n",
       "25%      3.999000e+05\n",
       "50%      6.990000e+05\n",
       "75%      1.199888e+06\n",
       "max      9.500000e+07\n",
       "Name: price, dtype: float64"
      ]
     },
     "execution_count": 6,
     "metadata": {},
     "output_type": "execute_result"
    }
   ],
   "source": [
    "real_est['price'].describe()"
   ]
  },
  {
   "cell_type": "code",
   "execution_count": 7,
   "id": "0bc2bddb",
   "metadata": {
    "scrolled": true
   },
   "outputs": [
    {
     "data": {
      "text/plain": [
       "Los Angeles County        7741\n",
       "San Diego County          2764\n",
       "Orange County             2265\n",
       "San Bernardino County     2083\n",
       "Riverside County          1869\n",
       "Santa Clara County        1447\n",
       "Sacramento County         1182\n",
       "Alameda County            1151\n",
       "Kern County                960\n",
       "Contra Costa County        917\n",
       "Fresno County              787\n",
       "San Francisco County       748\n",
       "Sonoma County              721\n",
       "Ventura County             673\n",
       "San Mateo County           644\n",
       "San Joaquin County         589\n",
       "Placer County              531\n",
       "San Luis Obispo County     524\n",
       "Santa Barbara County       470\n",
       "Marin County               431\n",
       "Tulare County              374\n",
       "Stanislaus County          371\n",
       "El Dorado County           368\n",
       "Monterey County            357\n",
       "Shasta County              353\n",
       "Butte County               307\n",
       "Santa Cruz County          299\n",
       "Calaveras County           286\n",
       "Humboldt County            273\n",
       "Lake County                268\n",
       "Solano County              263\n",
       "Mendocino County           246\n",
       "Merced County              235\n",
       "Plumas County              222\n",
       "Madera County              212\n",
       "Nevada County              201\n",
       "Siskiyou County            201\n",
       "Amador County              199\n",
       "Tuolumne County            189\n",
       "Napa County                183\n",
       "Imperial County            168\n",
       "Yolo County                167\n",
       "Trinity County             139\n",
       "Yuba County                134\n",
       "Tehama County              111\n",
       "Lassen County               99\n",
       "Mariposa County             92\n",
       "Mono County                 92\n",
       "Sutter County               87\n",
       "Del Norte County            74\n",
       "Modoc County                59\n",
       "Kings County                54\n",
       "San Benito County           51\n",
       "Inyo County                 47\n",
       "Glenn County                46\n",
       "Sierra County               25\n",
       "Colusa County               24\n",
       "Alpine County               16\n",
       "Name: county, dtype: int64"
      ]
     },
     "execution_count": 7,
     "metadata": {},
     "output_type": "execute_result"
    }
   ],
   "source": [
    "county= real_est['county'].value_counts()\n",
    "county"
   ]
  },
  {
   "cell_type": "code",
   "execution_count": 8,
   "id": "3d13e178",
   "metadata": {},
   "outputs": [],
   "source": [
    "counties = county.index"
   ]
  },
  {
   "cell_type": "code",
   "execution_count": 9,
   "id": "6c90db7c",
   "metadata": {},
   "outputs": [],
   "source": [
    "j = 0\n",
    "county_ohe = {}\n",
    "for i in counties:\n",
    "    county_ohe[i] = j\n",
    "    j+= 1"
   ]
  },
  {
   "cell_type": "code",
   "execution_count": 10,
   "id": "6a6af3c9",
   "metadata": {},
   "outputs": [],
   "source": [
    "def c_ohe(col):\n",
    "    return county_ohe[col]"
   ]
  },
  {
   "cell_type": "code",
   "execution_count": 11,
   "id": "229cebe6",
   "metadata": {},
   "outputs": [
    {
     "data": {
      "text/plain": [
       "0        16\n",
       "1         9\n",
       "2         9\n",
       "3         9\n",
       "4         9\n",
       "         ..\n",
       "35384     0\n",
       "35385     0\n",
       "35386    26\n",
       "35387    26\n",
       "35388    26\n",
       "Name: county_ohe, Length: 35389, dtype: int64"
      ]
     },
     "execution_count": 11,
     "metadata": {},
     "output_type": "execute_result"
    }
   ],
   "source": [
    "real_est['county_ohe'] = real_est['county'].apply(c_ohe)\n",
    "real_est['county_ohe']"
   ]
  },
  {
   "cell_type": "code",
   "execution_count": 12,
   "id": "5869f91e",
   "metadata": {},
   "outputs": [
    {
     "data": {
      "text/plain": [
       "SINGLE_FAMILY    22409\n",
       "LOT               5850\n",
       "CONDO             3495\n",
       "MULTI_FAMILY      2446\n",
       "TOWNHOUSE         1188\n",
       "APARTMENT            1\n",
       "Name: homeType, dtype: int64"
      ]
     },
     "execution_count": 12,
     "metadata": {},
     "output_type": "execute_result"
    }
   ],
   "source": [
    "real_est['homeType'].value_counts()"
   ]
  },
  {
   "cell_type": "code",
   "execution_count": 13,
   "id": "9ecf2c4f",
   "metadata": {},
   "outputs": [],
   "source": [
    "def ohe_ht(col):\n",
    "    if col == 'SINGLE_FAMILY':\n",
    "        return 0\n",
    "    elif  col == 'LOT':\n",
    "        return 1\n",
    "    elif col == 'CONDO':\n",
    "        return 2\n",
    "    elif col == 'MULTI_FAMILY':\n",
    "        return 3\n",
    "    elif col == 'TOWNHOUSE':\n",
    "        return 4\n",
    "    else:\n",
    "        return 5"
   ]
  },
  {
   "cell_type": "code",
   "execution_count": 14,
   "id": "44beb2e8",
   "metadata": {},
   "outputs": [],
   "source": [
    "real_est['homeType_ohe'] = real_est['homeType'].apply(ohe_ht)"
   ]
  },
  {
   "cell_type": "code",
   "execution_count": 15,
   "id": "913eeef1",
   "metadata": {
    "scrolled": true
   },
   "outputs": [
    {
     "data": {
      "text/plain": [
       "count    35389.000000\n",
       "mean      1637.428664\n",
       "std        746.333162\n",
       "min          0.000000\n",
       "25%       1929.000000\n",
       "50%       1964.000000\n",
       "75%       1989.000000\n",
       "max       9999.000000\n",
       "Name: yearBuilt, dtype: float64"
      ]
     },
     "execution_count": 15,
     "metadata": {},
     "output_type": "execute_result"
    }
   ],
   "source": [
    "real_est['yearBuilt'].describe()"
   ]
  },
  {
   "cell_type": "code",
   "execution_count": 16,
   "id": "f609ec79",
   "metadata": {
    "scrolled": true
   },
   "outputs": [
    {
     "data": {
      "text/html": [
       "<div>\n",
       "<style scoped>\n",
       "    .dataframe tbody tr th:only-of-type {\n",
       "        vertical-align: middle;\n",
       "    }\n",
       "\n",
       "    .dataframe tbody tr th {\n",
       "        vertical-align: top;\n",
       "    }\n",
       "\n",
       "    .dataframe thead th {\n",
       "        text-align: right;\n",
       "    }\n",
       "</style>\n",
       "<table border=\"1\" class=\"dataframe\">\n",
       "  <thead>\n",
       "    <tr style=\"text-align: right;\">\n",
       "      <th></th>\n",
       "      <th>datePostedString</th>\n",
       "      <th>is_bankOwned</th>\n",
       "      <th>is_forAuction</th>\n",
       "      <th>event</th>\n",
       "      <th>price</th>\n",
       "      <th>pricePerSquareFoot</th>\n",
       "      <th>city</th>\n",
       "      <th>state</th>\n",
       "      <th>yearBuilt</th>\n",
       "      <th>streetAddress</th>\n",
       "      <th>...</th>\n",
       "      <th>hasGarage</th>\n",
       "      <th>levels</th>\n",
       "      <th>pool</th>\n",
       "      <th>spa</th>\n",
       "      <th>isNewConstruction</th>\n",
       "      <th>hasPetsAllowed</th>\n",
       "      <th>homeType</th>\n",
       "      <th>county</th>\n",
       "      <th>county_ohe</th>\n",
       "      <th>homeType_ohe</th>\n",
       "    </tr>\n",
       "  </thead>\n",
       "  <tbody>\n",
       "    <tr>\n",
       "      <th>5119</th>\n",
       "      <td>2021-03-01</td>\n",
       "      <td>0</td>\n",
       "      <td>0</td>\n",
       "      <td>Price change</td>\n",
       "      <td>1100000.0</td>\n",
       "      <td>0.0</td>\n",
       "      <td>San Francisco</td>\n",
       "      <td>CA</td>\n",
       "      <td>9999</td>\n",
       "      <td>1748 La Salle Ave</td>\n",
       "      <td>...</td>\n",
       "      <td>1</td>\n",
       "      <td>0</td>\n",
       "      <td>0</td>\n",
       "      <td>0</td>\n",
       "      <td>0</td>\n",
       "      <td>0</td>\n",
       "      <td>MULTI_FAMILY</td>\n",
       "      <td>San Francisco County</td>\n",
       "      <td>11</td>\n",
       "      <td>3</td>\n",
       "    </tr>\n",
       "    <tr>\n",
       "      <th>19941</th>\n",
       "      <td>2021-03-02</td>\n",
       "      <td>0</td>\n",
       "      <td>0</td>\n",
       "      <td>Listed for sale</td>\n",
       "      <td>602100.0</td>\n",
       "      <td>602100.0</td>\n",
       "      <td>Tulelake</td>\n",
       "      <td>CA</td>\n",
       "      <td>9999</td>\n",
       "      <td>5427 E County Road 104</td>\n",
       "      <td>...</td>\n",
       "      <td>0</td>\n",
       "      <td>One</td>\n",
       "      <td>0</td>\n",
       "      <td>0</td>\n",
       "      <td>0</td>\n",
       "      <td>0</td>\n",
       "      <td>SINGLE_FAMILY</td>\n",
       "      <td>Modoc County</td>\n",
       "      <td>50</td>\n",
       "      <td>0</td>\n",
       "    </tr>\n",
       "    <tr>\n",
       "      <th>19942</th>\n",
       "      <td>2021-03-02</td>\n",
       "      <td>0</td>\n",
       "      <td>0</td>\n",
       "      <td>Listed for sale</td>\n",
       "      <td>604485.0</td>\n",
       "      <td>0.0</td>\n",
       "      <td>Tulelake</td>\n",
       "      <td>CA</td>\n",
       "      <td>9999</td>\n",
       "      <td>0 County Road 107a</td>\n",
       "      <td>...</td>\n",
       "      <td>0</td>\n",
       "      <td>One</td>\n",
       "      <td>0</td>\n",
       "      <td>0</td>\n",
       "      <td>0</td>\n",
       "      <td>0</td>\n",
       "      <td>SINGLE_FAMILY</td>\n",
       "      <td>Modoc County</td>\n",
       "      <td>50</td>\n",
       "      <td>0</td>\n",
       "    </tr>\n",
       "    <tr>\n",
       "      <th>31010</th>\n",
       "      <td>2021-03-01</td>\n",
       "      <td>0</td>\n",
       "      <td>0</td>\n",
       "      <td>Price change</td>\n",
       "      <td>1100000.0</td>\n",
       "      <td>0.0</td>\n",
       "      <td>San Francisco</td>\n",
       "      <td>CA</td>\n",
       "      <td>9999</td>\n",
       "      <td>1748 La Salle Ave</td>\n",
       "      <td>...</td>\n",
       "      <td>1</td>\n",
       "      <td>0</td>\n",
       "      <td>0</td>\n",
       "      <td>0</td>\n",
       "      <td>0</td>\n",
       "      <td>0</td>\n",
       "      <td>MULTI_FAMILY</td>\n",
       "      <td>San Francisco County</td>\n",
       "      <td>11</td>\n",
       "      <td>3</td>\n",
       "    </tr>\n",
       "  </tbody>\n",
       "</table>\n",
       "<p>4 rows × 31 columns</p>\n",
       "</div>"
      ],
      "text/plain": [
       "      datePostedString  is_bankOwned  is_forAuction            event  \\\n",
       "5119        2021-03-01             0              0     Price change   \n",
       "19941       2021-03-02             0              0  Listed for sale   \n",
       "19942       2021-03-02             0              0  Listed for sale   \n",
       "31010       2021-03-01             0              0     Price change   \n",
       "\n",
       "           price  pricePerSquareFoot           city state  yearBuilt  \\\n",
       "5119   1100000.0                 0.0  San Francisco    CA       9999   \n",
       "19941   602100.0            602100.0       Tulelake    CA       9999   \n",
       "19942   604485.0                 0.0       Tulelake    CA       9999   \n",
       "31010  1100000.0                 0.0  San Francisco    CA       9999   \n",
       "\n",
       "                streetAddress  ...  hasGarage  levels pool  spa  \\\n",
       "5119        1748 La Salle Ave  ...          1       0    0    0   \n",
       "19941  5427 E County Road 104  ...          0     One    0    0   \n",
       "19942      0 County Road 107a  ...          0     One    0    0   \n",
       "31010       1748 La Salle Ave  ...          1       0    0    0   \n",
       "\n",
       "       isNewConstruction hasPetsAllowed       homeType                county  \\\n",
       "5119                   0              0   MULTI_FAMILY  San Francisco County   \n",
       "19941                  0              0  SINGLE_FAMILY          Modoc County   \n",
       "19942                  0              0  SINGLE_FAMILY          Modoc County   \n",
       "31010                  0              0   MULTI_FAMILY  San Francisco County   \n",
       "\n",
       "       county_ohe  homeType_ohe  \n",
       "5119           11             3  \n",
       "19941          50             0  \n",
       "19942          50             0  \n",
       "31010          11             3  \n",
       "\n",
       "[4 rows x 31 columns]"
      ]
     },
     "execution_count": 16,
     "metadata": {},
     "output_type": "execute_result"
    }
   ],
   "source": [
    "real_est[real_est['yearBuilt'] == 9999]"
   ]
  },
  {
   "cell_type": "code",
   "execution_count": 17,
   "id": "91e2b292",
   "metadata": {},
   "outputs": [
    {
     "data": {
      "text/plain": [
       "6015"
      ]
     },
     "execution_count": 17,
     "metadata": {},
     "output_type": "execute_result"
    }
   ],
   "source": [
    "sum(real_est['yearBuilt'] == 0)"
   ]
  },
  {
   "cell_type": "code",
   "execution_count": 18,
   "id": "eafdebf9",
   "metadata": {},
   "outputs": [
    {
     "data": {
      "text/plain": [
       "LOT              5631\n",
       "SINGLE_FAMILY     291\n",
       "MULTI_FAMILY       49\n",
       "CONDO              37\n",
       "TOWNHOUSE           7\n",
       "Name: homeType, dtype: int64"
      ]
     },
     "execution_count": 18,
     "metadata": {},
     "output_type": "execute_result"
    }
   ],
   "source": [
    "real_est[real_est['yearBuilt'] == 0]['homeType'].value_counts()"
   ]
  },
  {
   "cell_type": "code",
   "execution_count": 19,
   "id": "a7fb766e",
   "metadata": {},
   "outputs": [
    {
     "data": {
      "text/plain": [
       "0    5979\n",
       "1      36\n",
       "Name: isNewConstruction, dtype: int64"
      ]
     },
     "execution_count": 19,
     "metadata": {},
     "output_type": "execute_result"
    }
   ],
   "source": [
    "real_est[real_est['yearBuilt'] == 0]['isNewConstruction'].value_counts()"
   ]
  },
  {
   "cell_type": "markdown",
   "id": "c2e8361f",
   "metadata": {},
   "source": [
    "Since most lots have their year built listed as 0 and we are more interested in housinng prices, we are going to remove the lots."
   ]
  },
  {
   "cell_type": "code",
   "execution_count": 20,
   "id": "f3f87eb6",
   "metadata": {},
   "outputs": [
    {
     "data": {
      "text/html": [
       "<div>\n",
       "<style scoped>\n",
       "    .dataframe tbody tr th:only-of-type {\n",
       "        vertical-align: middle;\n",
       "    }\n",
       "\n",
       "    .dataframe tbody tr th {\n",
       "        vertical-align: top;\n",
       "    }\n",
       "\n",
       "    .dataframe thead th {\n",
       "        text-align: right;\n",
       "    }\n",
       "</style>\n",
       "<table border=\"1\" class=\"dataframe\">\n",
       "  <thead>\n",
       "    <tr style=\"text-align: right;\">\n",
       "      <th></th>\n",
       "      <th>datePostedString</th>\n",
       "      <th>is_bankOwned</th>\n",
       "      <th>is_forAuction</th>\n",
       "      <th>event</th>\n",
       "      <th>price</th>\n",
       "      <th>pricePerSquareFoot</th>\n",
       "      <th>city</th>\n",
       "      <th>state</th>\n",
       "      <th>yearBuilt</th>\n",
       "      <th>streetAddress</th>\n",
       "      <th>...</th>\n",
       "      <th>hasGarage</th>\n",
       "      <th>levels</th>\n",
       "      <th>pool</th>\n",
       "      <th>spa</th>\n",
       "      <th>isNewConstruction</th>\n",
       "      <th>hasPetsAllowed</th>\n",
       "      <th>homeType</th>\n",
       "      <th>county</th>\n",
       "      <th>county_ohe</th>\n",
       "      <th>homeType_ohe</th>\n",
       "    </tr>\n",
       "  </thead>\n",
       "  <tbody>\n",
       "    <tr>\n",
       "      <th>1</th>\n",
       "      <td>2021-07-12</td>\n",
       "      <td>0</td>\n",
       "      <td>0</td>\n",
       "      <td>Listed for sale</td>\n",
       "      <td>675000.0</td>\n",
       "      <td>404.0</td>\n",
       "      <td>Pinole</td>\n",
       "      <td>CA</td>\n",
       "      <td>1958</td>\n",
       "      <td>1476 Belden Ct</td>\n",
       "      <td>...</td>\n",
       "      <td>1</td>\n",
       "      <td>One Story</td>\n",
       "      <td>0</td>\n",
       "      <td>0</td>\n",
       "      <td>0</td>\n",
       "      <td>0</td>\n",
       "      <td>SINGLE_FAMILY</td>\n",
       "      <td>Contra Costa County</td>\n",
       "      <td>9</td>\n",
       "      <td>0</td>\n",
       "    </tr>\n",
       "    <tr>\n",
       "      <th>2</th>\n",
       "      <td>2021-07-08</td>\n",
       "      <td>0</td>\n",
       "      <td>0</td>\n",
       "      <td>Listed for sale</td>\n",
       "      <td>649000.0</td>\n",
       "      <td>459.0</td>\n",
       "      <td>Pinole</td>\n",
       "      <td>CA</td>\n",
       "      <td>1959</td>\n",
       "      <td>3540 Savage Ave</td>\n",
       "      <td>...</td>\n",
       "      <td>1</td>\n",
       "      <td>One Story</td>\n",
       "      <td>0</td>\n",
       "      <td>0</td>\n",
       "      <td>0</td>\n",
       "      <td>0</td>\n",
       "      <td>SINGLE_FAMILY</td>\n",
       "      <td>Contra Costa County</td>\n",
       "      <td>9</td>\n",
       "      <td>0</td>\n",
       "    </tr>\n",
       "    <tr>\n",
       "      <th>3</th>\n",
       "      <td>2021-07-07</td>\n",
       "      <td>0</td>\n",
       "      <td>0</td>\n",
       "      <td>Listed for sale</td>\n",
       "      <td>599000.0</td>\n",
       "      <td>448.0</td>\n",
       "      <td>Pinole</td>\n",
       "      <td>CA</td>\n",
       "      <td>1908</td>\n",
       "      <td>2391 Plum St</td>\n",
       "      <td>...</td>\n",
       "      <td>1</td>\n",
       "      <td>Two Story</td>\n",
       "      <td>0</td>\n",
       "      <td>1</td>\n",
       "      <td>0</td>\n",
       "      <td>0</td>\n",
       "      <td>SINGLE_FAMILY</td>\n",
       "      <td>Contra Costa County</td>\n",
       "      <td>9</td>\n",
       "      <td>0</td>\n",
       "    </tr>\n",
       "    <tr>\n",
       "      <th>5</th>\n",
       "      <td>2021-07-06</td>\n",
       "      <td>0</td>\n",
       "      <td>0</td>\n",
       "      <td>Listed for sale</td>\n",
       "      <td>575000.0</td>\n",
       "      <td>407.0</td>\n",
       "      <td>Pinole</td>\n",
       "      <td>CA</td>\n",
       "      <td>1958</td>\n",
       "      <td>2611 Doidge Ave</td>\n",
       "      <td>...</td>\n",
       "      <td>1</td>\n",
       "      <td>One Story</td>\n",
       "      <td>0</td>\n",
       "      <td>0</td>\n",
       "      <td>0</td>\n",
       "      <td>0</td>\n",
       "      <td>SINGLE_FAMILY</td>\n",
       "      <td>Contra Costa County</td>\n",
       "      <td>9</td>\n",
       "      <td>0</td>\n",
       "    </tr>\n",
       "    <tr>\n",
       "      <th>6</th>\n",
       "      <td>2021-07-05</td>\n",
       "      <td>0</td>\n",
       "      <td>0</td>\n",
       "      <td>Listed for sale</td>\n",
       "      <td>888000.0</td>\n",
       "      <td>390.0</td>\n",
       "      <td>Pinole</td>\n",
       "      <td>CA</td>\n",
       "      <td>2000</td>\n",
       "      <td>645 Carlotta Cir</td>\n",
       "      <td>...</td>\n",
       "      <td>1</td>\n",
       "      <td>Two Story</td>\n",
       "      <td>0</td>\n",
       "      <td>0</td>\n",
       "      <td>0</td>\n",
       "      <td>0</td>\n",
       "      <td>SINGLE_FAMILY</td>\n",
       "      <td>Contra Costa County</td>\n",
       "      <td>9</td>\n",
       "      <td>0</td>\n",
       "    </tr>\n",
       "  </tbody>\n",
       "</table>\n",
       "<p>5 rows × 31 columns</p>\n",
       "</div>"
      ],
      "text/plain": [
       "  datePostedString  is_bankOwned  is_forAuction            event     price  \\\n",
       "1       2021-07-12             0              0  Listed for sale  675000.0   \n",
       "2       2021-07-08             0              0  Listed for sale  649000.0   \n",
       "3       2021-07-07             0              0  Listed for sale  599000.0   \n",
       "5       2021-07-06             0              0  Listed for sale  575000.0   \n",
       "6       2021-07-05             0              0  Listed for sale  888000.0   \n",
       "\n",
       "   pricePerSquareFoot    city state  yearBuilt     streetAddress  ...  \\\n",
       "1               404.0  Pinole    CA       1958    1476 Belden Ct  ...   \n",
       "2               459.0  Pinole    CA       1959   3540 Savage Ave  ...   \n",
       "3               448.0  Pinole    CA       1908      2391 Plum St  ...   \n",
       "5               407.0  Pinole    CA       1958   2611 Doidge Ave  ...   \n",
       "6               390.0  Pinole    CA       2000  645 Carlotta Cir  ...   \n",
       "\n",
       "   hasGarage     levels pool  spa  isNewConstruction hasPetsAllowed  \\\n",
       "1          1  One Story    0    0                  0              0   \n",
       "2          1  One Story    0    0                  0              0   \n",
       "3          1  Two Story    0    1                  0              0   \n",
       "5          1  One Story    0    0                  0              0   \n",
       "6          1  Two Story    0    0                  0              0   \n",
       "\n",
       "        homeType               county  county_ohe  homeType_ohe  \n",
       "1  SINGLE_FAMILY  Contra Costa County           9             0  \n",
       "2  SINGLE_FAMILY  Contra Costa County           9             0  \n",
       "3  SINGLE_FAMILY  Contra Costa County           9             0  \n",
       "5  SINGLE_FAMILY  Contra Costa County           9             0  \n",
       "6  SINGLE_FAMILY  Contra Costa County           9             0  \n",
       "\n",
       "[5 rows x 31 columns]"
      ]
     },
     "execution_count": 20,
     "metadata": {},
     "output_type": "execute_result"
    }
   ],
   "source": [
    "no_lot = ['SINGLE_FAMILY', 'MULTI_FAMILY', 'CONDO', 'TOWNHOUSE', 'APARTMENT']\n",
    "lotless= real_est[real_est['homeType'].isin(no_lot)]\n",
    "lotless.head()"
   ]
  },
  {
   "cell_type": "code",
   "execution_count": 21,
   "id": "9feeaa19",
   "metadata": {},
   "outputs": [
    {
     "data": {
      "text/plain": [
       "<AxesSubplot:xlabel='yearBuilt', ylabel='Count'>"
      ]
     },
     "execution_count": 21,
     "metadata": {},
     "output_type": "execute_result"
    },
    {
     "data": {
      "image/png": "[encoded data removed]",
      "text/plain": [
       "<Figure size 432x288 with 1 Axes>"
      ]
     },
     "metadata": {
      "needs_background": "light"
     },
     "output_type": "display_data"
    }
   ],
   "source": [
    "sns.histplot(data = lotless, x = 'yearBuilt', bins = 50)"
   ]
  },
  {
   "cell_type": "code",
   "execution_count": 22,
   "id": "d4205514",
   "metadata": {},
   "outputs": [
    {
     "data": {
      "text/plain": [
       "Los Angeles          1563\n",
       "San Diego            1006\n",
       "San Francisco         734\n",
       "Sacramento            679\n",
       "San Jose              657\n",
       "                     ... \n",
       "Lytle Creek             1\n",
       "Richvale                1\n",
       "Santa Rosa Valley       1\n",
       "Firebaugh               1\n",
       "Heber                   1\n",
       "Name: city, Length: 1091, dtype: int64"
      ]
     },
     "execution_count": 22,
     "metadata": {},
     "output_type": "execute_result"
    }
   ],
   "source": [
    "lotless['city'].value_counts()"
   ]
  },
  {
   "cell_type": "code",
   "execution_count": 23,
   "id": "91a93a9a",
   "metadata": {
    "scrolled": true
   },
   "outputs": [
    {
     "data": {
      "text/plain": [
       "0    29536\n",
       "1        3\n",
       "Name: is_bankOwned, dtype: int64"
      ]
     },
     "execution_count": 23,
     "metadata": {},
     "output_type": "execute_result"
    }
   ],
   "source": [
    "lotless['is_bankOwned'].value_counts()"
   ]
  },
  {
   "cell_type": "code",
   "execution_count": 24,
   "id": "e0adcacc",
   "metadata": {
    "scrolled": true
   },
   "outputs": [
    {
     "name": "stderr",
     "output_type": "stream",
     "text": [
      "C:\\Users\\Justin Chu\\AppData\\Local\\Temp/ipykernel_39800/4037353043.py:2: SettingWithCopyWarning: \n",
      "A value is trying to be set on a copy of a slice from a DataFrame.\n",
      "Try using .loc[row_indexer,col_indexer] = value instead\n",
      "\n",
      "See the caveats in the documentation: https://pandas.pydata.org/pandas-docs/stable/user_guide/indexing.html#returning-a-view-versus-a-copy\n",
      "  lotless['large_cities'] = lotless['city'].isin(major_cities)\n"
     ]
    },
    {
     "data": {
      "text/html": [
       "<div>\n",
       "<style scoped>\n",
       "    .dataframe tbody tr th:only-of-type {\n",
       "        vertical-align: middle;\n",
       "    }\n",
       "\n",
       "    .dataframe tbody tr th {\n",
       "        vertical-align: top;\n",
       "    }\n",
       "\n",
       "    .dataframe thead th {\n",
       "        text-align: right;\n",
       "    }\n",
       "</style>\n",
       "<table border=\"1\" class=\"dataframe\">\n",
       "  <thead>\n",
       "    <tr style=\"text-align: right;\">\n",
       "      <th></th>\n",
       "      <th>datePostedString</th>\n",
       "      <th>is_bankOwned</th>\n",
       "      <th>is_forAuction</th>\n",
       "      <th>event</th>\n",
       "      <th>price</th>\n",
       "      <th>pricePerSquareFoot</th>\n",
       "      <th>city</th>\n",
       "      <th>state</th>\n",
       "      <th>yearBuilt</th>\n",
       "      <th>streetAddress</th>\n",
       "      <th>...</th>\n",
       "      <th>levels</th>\n",
       "      <th>pool</th>\n",
       "      <th>spa</th>\n",
       "      <th>isNewConstruction</th>\n",
       "      <th>hasPetsAllowed</th>\n",
       "      <th>homeType</th>\n",
       "      <th>county</th>\n",
       "      <th>county_ohe</th>\n",
       "      <th>homeType_ohe</th>\n",
       "      <th>large_cities</th>\n",
       "    </tr>\n",
       "  </thead>\n",
       "  <tbody>\n",
       "    <tr>\n",
       "      <th>1</th>\n",
       "      <td>2021-07-12</td>\n",
       "      <td>0</td>\n",
       "      <td>0</td>\n",
       "      <td>Listed for sale</td>\n",
       "      <td>675000.0</td>\n",
       "      <td>404.0</td>\n",
       "      <td>Pinole</td>\n",
       "      <td>CA</td>\n",
       "      <td>1958</td>\n",
       "      <td>1476 Belden Ct</td>\n",
       "      <td>...</td>\n",
       "      <td>One Story</td>\n",
       "      <td>0</td>\n",
       "      <td>0</td>\n",
       "      <td>0</td>\n",
       "      <td>0</td>\n",
       "      <td>SINGLE_FAMILY</td>\n",
       "      <td>Contra Costa County</td>\n",
       "      <td>9</td>\n",
       "      <td>0</td>\n",
       "      <td>False</td>\n",
       "    </tr>\n",
       "    <tr>\n",
       "      <th>2</th>\n",
       "      <td>2021-07-08</td>\n",
       "      <td>0</td>\n",
       "      <td>0</td>\n",
       "      <td>Listed for sale</td>\n",
       "      <td>649000.0</td>\n",
       "      <td>459.0</td>\n",
       "      <td>Pinole</td>\n",
       "      <td>CA</td>\n",
       "      <td>1959</td>\n",
       "      <td>3540 Savage Ave</td>\n",
       "      <td>...</td>\n",
       "      <td>One Story</td>\n",
       "      <td>0</td>\n",
       "      <td>0</td>\n",
       "      <td>0</td>\n",
       "      <td>0</td>\n",
       "      <td>SINGLE_FAMILY</td>\n",
       "      <td>Contra Costa County</td>\n",
       "      <td>9</td>\n",
       "      <td>0</td>\n",
       "      <td>False</td>\n",
       "    </tr>\n",
       "    <tr>\n",
       "      <th>3</th>\n",
       "      <td>2021-07-07</td>\n",
       "      <td>0</td>\n",
       "      <td>0</td>\n",
       "      <td>Listed for sale</td>\n",
       "      <td>599000.0</td>\n",
       "      <td>448.0</td>\n",
       "      <td>Pinole</td>\n",
       "      <td>CA</td>\n",
       "      <td>1908</td>\n",
       "      <td>2391 Plum St</td>\n",
       "      <td>...</td>\n",
       "      <td>Two Story</td>\n",
       "      <td>0</td>\n",
       "      <td>1</td>\n",
       "      <td>0</td>\n",
       "      <td>0</td>\n",
       "      <td>SINGLE_FAMILY</td>\n",
       "      <td>Contra Costa County</td>\n",
       "      <td>9</td>\n",
       "      <td>0</td>\n",
       "      <td>False</td>\n",
       "    </tr>\n",
       "    <tr>\n",
       "      <th>5</th>\n",
       "      <td>2021-07-06</td>\n",
       "      <td>0</td>\n",
       "      <td>0</td>\n",
       "      <td>Listed for sale</td>\n",
       "      <td>575000.0</td>\n",
       "      <td>407.0</td>\n",
       "      <td>Pinole</td>\n",
       "      <td>CA</td>\n",
       "      <td>1958</td>\n",
       "      <td>2611 Doidge Ave</td>\n",
       "      <td>...</td>\n",
       "      <td>One Story</td>\n",
       "      <td>0</td>\n",
       "      <td>0</td>\n",
       "      <td>0</td>\n",
       "      <td>0</td>\n",
       "      <td>SINGLE_FAMILY</td>\n",
       "      <td>Contra Costa County</td>\n",
       "      <td>9</td>\n",
       "      <td>0</td>\n",
       "      <td>False</td>\n",
       "    </tr>\n",
       "    <tr>\n",
       "      <th>6</th>\n",
       "      <td>2021-07-05</td>\n",
       "      <td>0</td>\n",
       "      <td>0</td>\n",
       "      <td>Listed for sale</td>\n",
       "      <td>888000.0</td>\n",
       "      <td>390.0</td>\n",
       "      <td>Pinole</td>\n",
       "      <td>CA</td>\n",
       "      <td>2000</td>\n",
       "      <td>645 Carlotta Cir</td>\n",
       "      <td>...</td>\n",
       "      <td>Two Story</td>\n",
       "      <td>0</td>\n",
       "      <td>0</td>\n",
       "      <td>0</td>\n",
       "      <td>0</td>\n",
       "      <td>SINGLE_FAMILY</td>\n",
       "      <td>Contra Costa County</td>\n",
       "      <td>9</td>\n",
       "      <td>0</td>\n",
       "      <td>False</td>\n",
       "    </tr>\n",
       "  </tbody>\n",
       "</table>\n",
       "<p>5 rows × 32 columns</p>\n",
       "</div>"
      ],
      "text/plain": [
       "  datePostedString  is_bankOwned  is_forAuction            event     price  \\\n",
       "1       2021-07-12             0              0  Listed for sale  675000.0   \n",
       "2       2021-07-08             0              0  Listed for sale  649000.0   \n",
       "3       2021-07-07             0              0  Listed for sale  599000.0   \n",
       "5       2021-07-06             0              0  Listed for sale  575000.0   \n",
       "6       2021-07-05             0              0  Listed for sale  888000.0   \n",
       "\n",
       "   pricePerSquareFoot    city state  yearBuilt     streetAddress  ...  \\\n",
       "1               404.0  Pinole    CA       1958    1476 Belden Ct  ...   \n",
       "2               459.0  Pinole    CA       1959   3540 Savage Ave  ...   \n",
       "3               448.0  Pinole    CA       1908      2391 Plum St  ...   \n",
       "5               407.0  Pinole    CA       1958   2611 Doidge Ave  ...   \n",
       "6               390.0  Pinole    CA       2000  645 Carlotta Cir  ...   \n",
       "\n",
       "      levels  pool spa  isNewConstruction  hasPetsAllowed       homeType  \\\n",
       "1  One Story     0   0                  0               0  SINGLE_FAMILY   \n",
       "2  One Story     0   0                  0               0  SINGLE_FAMILY   \n",
       "3  Two Story     0   1                  0               0  SINGLE_FAMILY   \n",
       "5  One Story     0   0                  0               0  SINGLE_FAMILY   \n",
       "6  Two Story     0   0                  0               0  SINGLE_FAMILY   \n",
       "\n",
       "                county  county_ohe  homeType_ohe  large_cities  \n",
       "1  Contra Costa County           9             0         False  \n",
       "2  Contra Costa County           9             0         False  \n",
       "3  Contra Costa County           9             0         False  \n",
       "5  Contra Costa County           9             0         False  \n",
       "6  Contra Costa County           9             0         False  \n",
       "\n",
       "[5 rows x 32 columns]"
      ]
     },
     "execution_count": 24,
     "metadata": {},
     "output_type": "execute_result"
    }
   ],
   "source": [
    "major_cities = ['Los Angeles', 'San Diego', 'San Francisco', 'San Jose', 'Sacramento']\n",
    "lotless['large_cities'] = lotless['city'].isin(major_cities)\n",
    "lotless.head()"
   ]
  },
  {
   "cell_type": "code",
   "execution_count": 25,
   "id": "dec801bc",
   "metadata": {},
   "outputs": [
    {
     "data": {
      "text/plain": [
       "0    29058\n",
       "1      481\n",
       "Name: isNewConstruction, dtype: int64"
      ]
     },
     "execution_count": 25,
     "metadata": {},
     "output_type": "execute_result"
    }
   ],
   "source": [
    "lotless['isNewConstruction'].value_counts()"
   ]
  },
  {
   "cell_type": "code",
   "execution_count": 26,
   "id": "bb8ca657",
   "metadata": {},
   "outputs": [
    {
     "data": {
      "text/plain": [
       "Listed for sale    21374\n",
       "Price change        4049\n",
       "Listing removed     2698\n",
       "Sold                1135\n",
       "None                 277\n",
       "Listed for rent        5\n",
       "Pending sale           1\n",
       "Name: event, dtype: int64"
      ]
     },
     "execution_count": 26,
     "metadata": {},
     "output_type": "execute_result"
    }
   ],
   "source": [
    "lotless['event'].value_counts()"
   ]
  },
  {
   "cell_type": "markdown",
   "id": "d942a1aa",
   "metadata": {},
   "source": [
    "We want to get all of the sales of houses so it only accounts for the sale price of houses. We also want to get rid of all of the values where the year is not a plausible year (i.e. 9999 or 0)."
   ]
  },
  {
   "cell_type": "code",
   "execution_count": 27,
   "id": "54abc165",
   "metadata": {
    "scrolled": true
   },
   "outputs": [
    {
     "data": {
      "text/html": [
       "<div>\n",
       "<style scoped>\n",
       "    .dataframe tbody tr th:only-of-type {\n",
       "        vertical-align: middle;\n",
       "    }\n",
       "\n",
       "    .dataframe tbody tr th {\n",
       "        vertical-align: top;\n",
       "    }\n",
       "\n",
       "    .dataframe thead th {\n",
       "        text-align: right;\n",
       "    }\n",
       "</style>\n",
       "<table border=\"1\" class=\"dataframe\">\n",
       "  <thead>\n",
       "    <tr style=\"text-align: right;\">\n",
       "      <th></th>\n",
       "      <th>datePostedString</th>\n",
       "      <th>is_bankOwned</th>\n",
       "      <th>is_forAuction</th>\n",
       "      <th>event</th>\n",
       "      <th>price</th>\n",
       "      <th>pricePerSquareFoot</th>\n",
       "      <th>city</th>\n",
       "      <th>state</th>\n",
       "      <th>yearBuilt</th>\n",
       "      <th>streetAddress</th>\n",
       "      <th>...</th>\n",
       "      <th>levels</th>\n",
       "      <th>pool</th>\n",
       "      <th>spa</th>\n",
       "      <th>isNewConstruction</th>\n",
       "      <th>hasPetsAllowed</th>\n",
       "      <th>homeType</th>\n",
       "      <th>county</th>\n",
       "      <th>county_ohe</th>\n",
       "      <th>homeType_ohe</th>\n",
       "      <th>large_cities</th>\n",
       "    </tr>\n",
       "  </thead>\n",
       "  <tbody>\n",
       "    <tr>\n",
       "      <th>1</th>\n",
       "      <td>2021-07-12</td>\n",
       "      <td>0</td>\n",
       "      <td>0</td>\n",
       "      <td>Listed for sale</td>\n",
       "      <td>675000.0</td>\n",
       "      <td>404.0</td>\n",
       "      <td>Pinole</td>\n",
       "      <td>CA</td>\n",
       "      <td>1958</td>\n",
       "      <td>1476 Belden Ct</td>\n",
       "      <td>...</td>\n",
       "      <td>One Story</td>\n",
       "      <td>0</td>\n",
       "      <td>0</td>\n",
       "      <td>0</td>\n",
       "      <td>0</td>\n",
       "      <td>SINGLE_FAMILY</td>\n",
       "      <td>Contra Costa County</td>\n",
       "      <td>9</td>\n",
       "      <td>0</td>\n",
       "      <td>False</td>\n",
       "    </tr>\n",
       "    <tr>\n",
       "      <th>2</th>\n",
       "      <td>2021-07-08</td>\n",
       "      <td>0</td>\n",
       "      <td>0</td>\n",
       "      <td>Listed for sale</td>\n",
       "      <td>649000.0</td>\n",
       "      <td>459.0</td>\n",
       "      <td>Pinole</td>\n",
       "      <td>CA</td>\n",
       "      <td>1959</td>\n",
       "      <td>3540 Savage Ave</td>\n",
       "      <td>...</td>\n",
       "      <td>One Story</td>\n",
       "      <td>0</td>\n",
       "      <td>0</td>\n",
       "      <td>0</td>\n",
       "      <td>0</td>\n",
       "      <td>SINGLE_FAMILY</td>\n",
       "      <td>Contra Costa County</td>\n",
       "      <td>9</td>\n",
       "      <td>0</td>\n",
       "      <td>False</td>\n",
       "    </tr>\n",
       "    <tr>\n",
       "      <th>3</th>\n",
       "      <td>2021-07-07</td>\n",
       "      <td>0</td>\n",
       "      <td>0</td>\n",
       "      <td>Listed for sale</td>\n",
       "      <td>599000.0</td>\n",
       "      <td>448.0</td>\n",
       "      <td>Pinole</td>\n",
       "      <td>CA</td>\n",
       "      <td>1908</td>\n",
       "      <td>2391 Plum St</td>\n",
       "      <td>...</td>\n",
       "      <td>Two Story</td>\n",
       "      <td>0</td>\n",
       "      <td>1</td>\n",
       "      <td>0</td>\n",
       "      <td>0</td>\n",
       "      <td>SINGLE_FAMILY</td>\n",
       "      <td>Contra Costa County</td>\n",
       "      <td>9</td>\n",
       "      <td>0</td>\n",
       "      <td>False</td>\n",
       "    </tr>\n",
       "    <tr>\n",
       "      <th>5</th>\n",
       "      <td>2021-07-06</td>\n",
       "      <td>0</td>\n",
       "      <td>0</td>\n",
       "      <td>Listed for sale</td>\n",
       "      <td>575000.0</td>\n",
       "      <td>407.0</td>\n",
       "      <td>Pinole</td>\n",
       "      <td>CA</td>\n",
       "      <td>1958</td>\n",
       "      <td>2611 Doidge Ave</td>\n",
       "      <td>...</td>\n",
       "      <td>One Story</td>\n",
       "      <td>0</td>\n",
       "      <td>0</td>\n",
       "      <td>0</td>\n",
       "      <td>0</td>\n",
       "      <td>SINGLE_FAMILY</td>\n",
       "      <td>Contra Costa County</td>\n",
       "      <td>9</td>\n",
       "      <td>0</td>\n",
       "      <td>False</td>\n",
       "    </tr>\n",
       "    <tr>\n",
       "      <th>6</th>\n",
       "      <td>2021-07-05</td>\n",
       "      <td>0</td>\n",
       "      <td>0</td>\n",
       "      <td>Listed for sale</td>\n",
       "      <td>888000.0</td>\n",
       "      <td>390.0</td>\n",
       "      <td>Pinole</td>\n",
       "      <td>CA</td>\n",
       "      <td>2000</td>\n",
       "      <td>645 Carlotta Cir</td>\n",
       "      <td>...</td>\n",
       "      <td>Two Story</td>\n",
       "      <td>0</td>\n",
       "      <td>0</td>\n",
       "      <td>0</td>\n",
       "      <td>0</td>\n",
       "      <td>SINGLE_FAMILY</td>\n",
       "      <td>Contra Costa County</td>\n",
       "      <td>9</td>\n",
       "      <td>0</td>\n",
       "      <td>False</td>\n",
       "    </tr>\n",
       "  </tbody>\n",
       "</table>\n",
       "<p>5 rows × 32 columns</p>\n",
       "</div>"
      ],
      "text/plain": [
       "  datePostedString  is_bankOwned  is_forAuction            event     price  \\\n",
       "1       2021-07-12             0              0  Listed for sale  675000.0   \n",
       "2       2021-07-08             0              0  Listed for sale  649000.0   \n",
       "3       2021-07-07             0              0  Listed for sale  599000.0   \n",
       "5       2021-07-06             0              0  Listed for sale  575000.0   \n",
       "6       2021-07-05             0              0  Listed for sale  888000.0   \n",
       "\n",
       "   pricePerSquareFoot    city state  yearBuilt     streetAddress  ...  \\\n",
       "1               404.0  Pinole    CA       1958    1476 Belden Ct  ...   \n",
       "2               459.0  Pinole    CA       1959   3540 Savage Ave  ...   \n",
       "3               448.0  Pinole    CA       1908      2391 Plum St  ...   \n",
       "5               407.0  Pinole    CA       1958   2611 Doidge Ave  ...   \n",
       "6               390.0  Pinole    CA       2000  645 Carlotta Cir  ...   \n",
       "\n",
       "      levels  pool spa  isNewConstruction  hasPetsAllowed       homeType  \\\n",
       "1  One Story     0   0                  0               0  SINGLE_FAMILY   \n",
       "2  One Story     0   0                  0               0  SINGLE_FAMILY   \n",
       "3  Two Story     0   1                  0               0  SINGLE_FAMILY   \n",
       "5  One Story     0   0                  0               0  SINGLE_FAMILY   \n",
       "6  Two Story     0   0                  0               0  SINGLE_FAMILY   \n",
       "\n",
       "                county  county_ohe  homeType_ohe  large_cities  \n",
       "1  Contra Costa County           9             0         False  \n",
       "2  Contra Costa County           9             0         False  \n",
       "3  Contra Costa County           9             0         False  \n",
       "5  Contra Costa County           9             0         False  \n",
       "6  Contra Costa County           9             0         False  \n",
       "\n",
       "[5 rows x 32 columns]"
      ]
     },
     "execution_count": 27,
     "metadata": {},
     "output_type": "execute_result"
    }
   ],
   "source": [
    "for_sale = lotless[lotless['event'].isin(['Listed for sale', 'Sold', 'Pending sale'])]\n",
    "for_sale = for_sale[(for_sale['yearBuilt'] > 1500) & (for_sale['yearBuilt'] < 2022)]\n",
    "for_sale.head()"
   ]
  },
  {
   "cell_type": "code",
   "execution_count": 28,
   "id": "aa4b2f58",
   "metadata": {},
   "outputs": [
    {
     "data": {
      "text/plain": [
       "0    19094\n",
       "1     3121\n",
       "Name: pool, dtype: int64"
      ]
     },
     "execution_count": 28,
     "metadata": {},
     "output_type": "execute_result"
    }
   ],
   "source": [
    "for_sale['pool'].value_counts()"
   ]
  },
  {
   "cell_type": "code",
   "execution_count": 29,
   "id": "0c65e50d",
   "metadata": {},
   "outputs": [
    {
     "data": {
      "text/plain": [
       "1        1671.0\n",
       "2        1414.0\n",
       "3        1336.0\n",
       "5        1413.0\n",
       "6        2278.0\n",
       "          ...  \n",
       "35382       0.0\n",
       "35383       0.0\n",
       "35386     486.0\n",
       "35387    1896.0\n",
       "35388    1801.0\n",
       "Name: livingArea, Length: 22215, dtype: float64"
      ]
     },
     "execution_count": 29,
     "metadata": {},
     "output_type": "execute_result"
    }
   ],
   "source": [
    "for_sale['livingArea']"
   ]
  },
  {
   "cell_type": "code",
   "execution_count": 30,
   "id": "fe4e2b87",
   "metadata": {},
   "outputs": [
    {
     "data": {
      "text/plain": [
       "sqft     16030\n",
       "Acres     6185\n",
       "Name: lotAreaUnits, dtype: int64"
      ]
     },
     "execution_count": 30,
     "metadata": {},
     "output_type": "execute_result"
    }
   ],
   "source": [
    "for_sale['lotAreaUnits'].value_counts()"
   ]
  },
  {
   "cell_type": "code",
   "execution_count": 31,
   "id": "dde9f919",
   "metadata": {},
   "outputs": [
    {
     "data": {
      "text/plain": [
       "Index(['datePostedString', 'is_bankOwned', 'is_forAuction', 'event', 'price',\n",
       "       'pricePerSquareFoot', 'city', 'state', 'yearBuilt', 'streetAddress',\n",
       "       'zipcode', 'hasBadGeocode', 'description', 'livingArea',\n",
       "       'livingAreaValue', 'lotAreaUnits', 'bathrooms', 'bedrooms',\n",
       "       'buildingArea', 'parking', 'garageSpaces', 'hasGarage', 'levels',\n",
       "       'pool', 'spa', 'isNewConstruction', 'hasPetsAllowed', 'homeType',\n",
       "       'county', 'county_ohe', 'homeType_ohe', 'large_cities'],\n",
       "      dtype='object')"
      ]
     },
     "execution_count": 31,
     "metadata": {},
     "output_type": "execute_result"
    }
   ],
   "source": [
    "for_sale.columns"
   ]
  },
  {
   "cell_type": "markdown",
   "id": "796967bc",
   "metadata": {},
   "source": [
    "Since there are quite a few houses that have their square footage labeled at quite a low number (i.e. 0 or 1) we want to remove those to clean up the data a bit."
   ]
  },
  {
   "cell_type": "code",
   "execution_count": 32,
   "id": "73873dd0",
   "metadata": {
    "scrolled": true
   },
   "outputs": [
    {
     "data": {
      "text/html": [
       "<div>\n",
       "<style scoped>\n",
       "    .dataframe tbody tr th:only-of-type {\n",
       "        vertical-align: middle;\n",
       "    }\n",
       "\n",
       "    .dataframe tbody tr th {\n",
       "        vertical-align: top;\n",
       "    }\n",
       "\n",
       "    .dataframe thead th {\n",
       "        text-align: right;\n",
       "    }\n",
       "</style>\n",
       "<table border=\"1\" class=\"dataframe\">\n",
       "  <thead>\n",
       "    <tr style=\"text-align: right;\">\n",
       "      <th></th>\n",
       "      <th>datePostedString</th>\n",
       "      <th>is_bankOwned</th>\n",
       "      <th>is_forAuction</th>\n",
       "      <th>event</th>\n",
       "      <th>price</th>\n",
       "      <th>pricePerSquareFoot</th>\n",
       "      <th>city</th>\n",
       "      <th>state</th>\n",
       "      <th>yearBuilt</th>\n",
       "      <th>streetAddress</th>\n",
       "      <th>...</th>\n",
       "      <th>levels</th>\n",
       "      <th>pool</th>\n",
       "      <th>spa</th>\n",
       "      <th>isNewConstruction</th>\n",
       "      <th>hasPetsAllowed</th>\n",
       "      <th>homeType</th>\n",
       "      <th>county</th>\n",
       "      <th>county_ohe</th>\n",
       "      <th>homeType_ohe</th>\n",
       "      <th>large_cities</th>\n",
       "    </tr>\n",
       "  </thead>\n",
       "  <tbody>\n",
       "    <tr>\n",
       "      <th>1</th>\n",
       "      <td>2021-07-12</td>\n",
       "      <td>0</td>\n",
       "      <td>0</td>\n",
       "      <td>Listed for sale</td>\n",
       "      <td>675000.0</td>\n",
       "      <td>404.0</td>\n",
       "      <td>Pinole</td>\n",
       "      <td>CA</td>\n",
       "      <td>1958</td>\n",
       "      <td>1476 Belden Ct</td>\n",
       "      <td>...</td>\n",
       "      <td>One Story</td>\n",
       "      <td>0</td>\n",
       "      <td>0</td>\n",
       "      <td>0</td>\n",
       "      <td>0</td>\n",
       "      <td>SINGLE_FAMILY</td>\n",
       "      <td>Contra Costa County</td>\n",
       "      <td>9</td>\n",
       "      <td>0</td>\n",
       "      <td>False</td>\n",
       "    </tr>\n",
       "    <tr>\n",
       "      <th>2</th>\n",
       "      <td>2021-07-08</td>\n",
       "      <td>0</td>\n",
       "      <td>0</td>\n",
       "      <td>Listed for sale</td>\n",
       "      <td>649000.0</td>\n",
       "      <td>459.0</td>\n",
       "      <td>Pinole</td>\n",
       "      <td>CA</td>\n",
       "      <td>1959</td>\n",
       "      <td>3540 Savage Ave</td>\n",
       "      <td>...</td>\n",
       "      <td>One Story</td>\n",
       "      <td>0</td>\n",
       "      <td>0</td>\n",
       "      <td>0</td>\n",
       "      <td>0</td>\n",
       "      <td>SINGLE_FAMILY</td>\n",
       "      <td>Contra Costa County</td>\n",
       "      <td>9</td>\n",
       "      <td>0</td>\n",
       "      <td>False</td>\n",
       "    </tr>\n",
       "    <tr>\n",
       "      <th>3</th>\n",
       "      <td>2021-07-07</td>\n",
       "      <td>0</td>\n",
       "      <td>0</td>\n",
       "      <td>Listed for sale</td>\n",
       "      <td>599000.0</td>\n",
       "      <td>448.0</td>\n",
       "      <td>Pinole</td>\n",
       "      <td>CA</td>\n",
       "      <td>1908</td>\n",
       "      <td>2391 Plum St</td>\n",
       "      <td>...</td>\n",
       "      <td>Two Story</td>\n",
       "      <td>0</td>\n",
       "      <td>1</td>\n",
       "      <td>0</td>\n",
       "      <td>0</td>\n",
       "      <td>SINGLE_FAMILY</td>\n",
       "      <td>Contra Costa County</td>\n",
       "      <td>9</td>\n",
       "      <td>0</td>\n",
       "      <td>False</td>\n",
       "    </tr>\n",
       "    <tr>\n",
       "      <th>5</th>\n",
       "      <td>2021-07-06</td>\n",
       "      <td>0</td>\n",
       "      <td>0</td>\n",
       "      <td>Listed for sale</td>\n",
       "      <td>575000.0</td>\n",
       "      <td>407.0</td>\n",
       "      <td>Pinole</td>\n",
       "      <td>CA</td>\n",
       "      <td>1958</td>\n",
       "      <td>2611 Doidge Ave</td>\n",
       "      <td>...</td>\n",
       "      <td>One Story</td>\n",
       "      <td>0</td>\n",
       "      <td>0</td>\n",
       "      <td>0</td>\n",
       "      <td>0</td>\n",
       "      <td>SINGLE_FAMILY</td>\n",
       "      <td>Contra Costa County</td>\n",
       "      <td>9</td>\n",
       "      <td>0</td>\n",
       "      <td>False</td>\n",
       "    </tr>\n",
       "    <tr>\n",
       "      <th>6</th>\n",
       "      <td>2021-07-05</td>\n",
       "      <td>0</td>\n",
       "      <td>0</td>\n",
       "      <td>Listed for sale</td>\n",
       "      <td>888000.0</td>\n",
       "      <td>390.0</td>\n",
       "      <td>Pinole</td>\n",
       "      <td>CA</td>\n",
       "      <td>2000</td>\n",
       "      <td>645 Carlotta Cir</td>\n",
       "      <td>...</td>\n",
       "      <td>Two Story</td>\n",
       "      <td>0</td>\n",
       "      <td>0</td>\n",
       "      <td>0</td>\n",
       "      <td>0</td>\n",
       "      <td>SINGLE_FAMILY</td>\n",
       "      <td>Contra Costa County</td>\n",
       "      <td>9</td>\n",
       "      <td>0</td>\n",
       "      <td>False</td>\n",
       "    </tr>\n",
       "  </tbody>\n",
       "</table>\n",
       "<p>5 rows × 32 columns</p>\n",
       "</div>"
      ],
      "text/plain": [
       "  datePostedString  is_bankOwned  is_forAuction            event     price  \\\n",
       "1       2021-07-12             0              0  Listed for sale  675000.0   \n",
       "2       2021-07-08             0              0  Listed for sale  649000.0   \n",
       "3       2021-07-07             0              0  Listed for sale  599000.0   \n",
       "5       2021-07-06             0              0  Listed for sale  575000.0   \n",
       "6       2021-07-05             0              0  Listed for sale  888000.0   \n",
       "\n",
       "   pricePerSquareFoot    city state  yearBuilt     streetAddress  ...  \\\n",
       "1               404.0  Pinole    CA       1958    1476 Belden Ct  ...   \n",
       "2               459.0  Pinole    CA       1959   3540 Savage Ave  ...   \n",
       "3               448.0  Pinole    CA       1908      2391 Plum St  ...   \n",
       "5               407.0  Pinole    CA       1958   2611 Doidge Ave  ...   \n",
       "6               390.0  Pinole    CA       2000  645 Carlotta Cir  ...   \n",
       "\n",
       "      levels  pool spa  isNewConstruction  hasPetsAllowed       homeType  \\\n",
       "1  One Story     0   0                  0               0  SINGLE_FAMILY   \n",
       "2  One Story     0   0                  0               0  SINGLE_FAMILY   \n",
       "3  Two Story     0   1                  0               0  SINGLE_FAMILY   \n",
       "5  One Story     0   0                  0               0  SINGLE_FAMILY   \n",
       "6  Two Story     0   0                  0               0  SINGLE_FAMILY   \n",
       "\n",
       "                county  county_ohe  homeType_ohe  large_cities  \n",
       "1  Contra Costa County           9             0         False  \n",
       "2  Contra Costa County           9             0         False  \n",
       "3  Contra Costa County           9             0         False  \n",
       "5  Contra Costa County           9             0         False  \n",
       "6  Contra Costa County           9             0         False  \n",
       "\n",
       "[5 rows x 32 columns]"
      ]
     },
     "execution_count": 32,
     "metadata": {},
     "output_type": "execute_result"
    }
   ],
   "source": [
    "for_sale = for_sale[for_sale['livingArea'] > 100]\n",
    "for_sale.head()"
   ]
  },
  {
   "cell_type": "code",
   "execution_count": 33,
   "id": "766bce77",
   "metadata": {
    "scrolled": true
   },
   "outputs": [
    {
     "data": {
      "text/plain": [
       "2.0     8488\n",
       "3.0     6476\n",
       "1.0     2781\n",
       "4.0     1611\n",
       "0.0     1005\n",
       "5.0      647\n",
       "6.0      292\n",
       "7.0      127\n",
       "8.0       90\n",
       "9.0       31\n",
       "10.0      15\n",
       "11.0      14\n",
       "12.0       7\n",
       "14.0       6\n",
       "15.0       3\n",
       "13.0       2\n",
       "16.0       2\n",
       "28.0       1\n",
       "48.0       1\n",
       "25.0       1\n",
       "23.0       1\n",
       "Name: bathrooms, dtype: int64"
      ]
     },
     "execution_count": 33,
     "metadata": {},
     "output_type": "execute_result"
    }
   ],
   "source": [
    "for_sale['bathrooms'].value_counts()"
   ]
  },
  {
   "cell_type": "code",
   "execution_count": 34,
   "id": "0e773efc",
   "metadata": {},
   "outputs": [
    {
     "data": {
      "text/plain": [
       "3.0     8379\n",
       "4.0     5499\n",
       "2.0     3924\n",
       "5.0     1770\n",
       "0.0      700\n",
       "1.0      628\n",
       "6.0      406\n",
       "7.0      128\n",
       "8.0       86\n",
       "9.0       29\n",
       "11.0      14\n",
       "12.0      13\n",
       "10.0       8\n",
       "13.0       4\n",
       "17.0       2\n",
       "32.0       2\n",
       "18.0       2\n",
       "82.0       1\n",
       "15.0       1\n",
       "50.0       1\n",
       "21.0       1\n",
       "80.0       1\n",
       "14.0       1\n",
       "56.0       1\n",
       "Name: bedrooms, dtype: int64"
      ]
     },
     "execution_count": 34,
     "metadata": {},
     "output_type": "execute_result"
    }
   ],
   "source": [
    "for_sale['bedrooms'].value_counts()"
   ]
  },
  {
   "cell_type": "code",
   "execution_count": 35,
   "id": "f74e887b",
   "metadata": {},
   "outputs": [
    {
     "data": {
      "text/plain": [
       "<AxesSubplot:xlabel='homeType', ylabel='Count'>"
      ]
     },
     "execution_count": 35,
     "metadata": {},
     "output_type": "execute_result"
    },
    {
     "data": {
      "image/png": "[encoded data removed]",
      "text/plain": [
       "<Figure size 432x288 with 1 Axes>"
      ]
     },
     "metadata": {
      "needs_background": "light"
     },
     "output_type": "display_data"
    }
   ],
   "source": [
    "sns.histplot(data = for_sale, x = 'homeType')"
   ]
  },
  {
   "cell_type": "code",
   "execution_count": 36,
   "id": "2071b090",
   "metadata": {},
   "outputs": [
    {
     "data": {
      "text/plain": [
       "<AxesSubplot:xlabel='price', ylabel='Count'>"
      ]
     },
     "execution_count": 36,
     "metadata": {},
     "output_type": "execute_result"
    },
    {
     "data": {
      "image/png": "[encoded data removed]",
      "text/plain": [
       "<Figure size 432x288 with 1 Axes>"
      ]
     },
     "metadata": {
      "needs_background": "light"
     },
     "output_type": "display_data"
    }
   ],
   "source": [
    "sns.histplot(data= for_sale, x = 'price', bins = 100)"
   ]
  },
  {
   "cell_type": "markdown",
   "id": "750a923b",
   "metadata": {},
   "source": [
    "### Predictive Task and Model\n",
    "I have a few baselines for this by using Linear Regression, Naive Bayes and Support Vector Machine with the model being a decision tree. I think that the decision tree should do the best because I feel it would be able to better cover all of the inputs I am adding. I am using mean absolute error as the metric to determine how well the model did because it seems to work well for regression models. "
   ]
  },
  {
   "cell_type": "code",
   "execution_count": 37,
   "id": "c96b2c35",
   "metadata": {},
   "outputs": [],
   "source": [
    "from sklearn.metrics import mean_absolute_error"
   ]
  },
  {
   "cell_type": "code",
   "execution_count": 38,
   "id": "ca98cad3",
   "metadata": {},
   "outputs": [],
   "source": [
    "from sklearn.model_selection import train_test_split\n",
    "X = for_sale[['large_cities', 'yearBuilt', 'homeType_ohe', 'isNewConstruction', 'livingArea', 'pool', 'bedrooms', 'bathrooms']]\n",
    "y = for_sale['price']\n",
    "X_train, X_test, y_train, y_test = train_test_split(X, y, train_size = 0.75, random_state = 42)"
   ]
  },
  {
   "cell_type": "code",
   "execution_count": 39,
   "id": "adc68b4b",
   "metadata": {},
   "outputs": [],
   "source": [
    "from sklearn.linear_model import LinearRegression\n",
    "reg = LinearRegression()\n",
    "reg.fit(X_train, y_train)\n",
    "pred = reg.predict(X_test)"
   ]
  },
  {
   "cell_type": "code",
   "execution_count": 40,
   "id": "6f8c4c3d",
   "metadata": {},
   "outputs": [
    {
     "data": {
      "text/plain": [
       "589643.1663394197"
      ]
     },
     "execution_count": 40,
     "metadata": {},
     "output_type": "execute_result"
    }
   ],
   "source": [
    "mean_absolute_error(y_test, pred)"
   ]
  },
  {
   "cell_type": "code",
   "execution_count": 41,
   "id": "436cab0d",
   "metadata": {},
   "outputs": [],
   "source": [
    "from sklearn.svm import SVR\n",
    "svm = SVR()\n",
    "svm.fit(X_train, y_train)\n",
    "pred = svm.predict(X_test)"
   ]
  },
  {
   "cell_type": "code",
   "execution_count": 42,
   "id": "6d3243ba",
   "metadata": {},
   "outputs": [
    {
     "data": {
      "text/plain": [
       "655780.1080130442"
      ]
     },
     "execution_count": 42,
     "metadata": {},
     "output_type": "execute_result"
    }
   ],
   "source": [
    "mean_absolute_error(y_test, pred)"
   ]
  },
  {
   "cell_type": "code",
   "execution_count": 43,
   "id": "7f5fb6d9",
   "metadata": {},
   "outputs": [],
   "source": [
    "from sklearn.naive_bayes import GaussianNB\n",
    "gnb = GaussianNB()\n",
    "gnb.fit(X_train, y_train)\n",
    "pred = gnb.predict(X_test)"
   ]
  },
  {
   "cell_type": "code",
   "execution_count": 44,
   "id": "dfd2fc69",
   "metadata": {},
   "outputs": [
    {
     "data": {
      "text/plain": [
       "764618.0499907425"
      ]
     },
     "execution_count": 44,
     "metadata": {},
     "output_type": "execute_result"
    }
   ],
   "source": [
    "mean_absolute_error(y_test, pred)"
   ]
  },
  {
   "cell_type": "code",
   "execution_count": 45,
   "id": "d2ab1650",
   "metadata": {},
   "outputs": [],
   "source": [
    "from sklearn.tree import DecisionTreeRegressor\n",
    "dt = DecisionTreeRegressor()\n",
    "dt.fit(X_train, y_train)\n",
    "pred = dt.predict(X_test)"
   ]
  },
  {
   "cell_type": "code",
   "execution_count": 46,
   "id": "1e3b875d",
   "metadata": {
    "scrolled": true
   },
   "outputs": [
    {
     "data": {
      "text/plain": [
       "585108.7228291057"
      ]
     },
     "execution_count": 46,
     "metadata": {},
     "output_type": "execute_result"
    }
   ],
   "source": [
    "mean_absolute_error(y_test, pred)"
   ]
  },
  {
   "cell_type": "markdown",
   "id": "a3187dea",
   "metadata": {},
   "source": [
    "### Results\n",
    "As we can see above, the models actually don't seem to do quite well but the decision tree regressor does the best out of all of the models. I think overall, the dataset does not have enough proper information to be able to properly predict the prices of housing in California. There are often a lot of other circumstances that increase or decrease the value of property, such as school district, accessibility to transportation (i.e. public transport, freeways/highways), and quality of the house. I know this from first hand experience as the neighborhood I used to live in had housing prices skyrocket because the school district had a notoriously good reputation. Even within the city, there were certain parts of it with housing prices that were a lot lower because it was very far from the main part of the town (i.e. the school, restaurants, etc.) and even though the size of the houses were comparable, the prices were quite a bit lower. I think that the feature that I had added were important for many people when it comes to buying houses but the dataset did not have enough information for me to create a better model. I think there was also a huge problem with the dataset because there are a lot of feature that were important that had mistakes in them, meaning even though I cut out the 0 square feet houses, there could be other incorrect numbers which would lead to incorrect predictions on the model. I think what we can gather from this is that the prediction models can have bad numbers when it comes to evalutaion time but it doesn't mean that it is necessarily a problem with the model. As we can see, there are a lot of external circumstances and issues with the dataset that could cause the model to not come out as well as we hoped."
   ]
  }
 ],
 "metadata": {
  "kernelspec": {
   "display_name": "Python 3 (ipykernel)",
   "language": "python",
   "name": "python3"
  },
  "language_info": {
   "codemirror_mode": {
    "name": "ipython",
    "version": 3
   },
   "file_extension": ".py",
   "mimetype": "text/x-python",
   "name": "python",
   "nbconvert_exporter": "python",
   "pygments_lexer": "ipython3",
   "version": "3.9.7"
  }
 },
 "nbformat": 4,
 "nbformat_minor": 5
}
